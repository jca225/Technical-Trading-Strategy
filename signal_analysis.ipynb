{
 "cells": [
  {
   "cell_type": "code",
   "execution_count": 27,
   "metadata": {},
   "outputs": [
    {
     "data": {
      "text/html": [
       "<div>\n",
       "<style scoped>\n",
       "    .dataframe tbody tr th:only-of-type {\n",
       "        vertical-align: middle;\n",
       "    }\n",
       "\n",
       "    .dataframe tbody tr th {\n",
       "        vertical-align: top;\n",
       "    }\n",
       "\n",
       "    .dataframe thead th {\n",
       "        text-align: right;\n",
       "    }\n",
       "</style>\n",
       "<table border=\"1\" class=\"dataframe\">\n",
       "  <thead>\n",
       "    <tr style=\"text-align: right;\">\n",
       "      <th></th>\n",
       "      <th>profits_losses</th>\n",
       "      <th>asset</th>\n",
       "      <th>buy_index</th>\n",
       "      <th>time_held</th>\n",
       "      <th>buy_price</th>\n",
       "      <th>buy_date</th>\n",
       "    </tr>\n",
       "  </thead>\n",
       "  <tbody>\n",
       "    <tr>\n",
       "      <th>0</th>\n",
       "      <td>0.000</td>\n",
       "      <td>GHRS</td>\n",
       "      <td>0</td>\n",
       "      <td>57</td>\n",
       "      <td>0.000</td>\n",
       "      <td>2021-06-25 04:00:00+00:00</td>\n",
       "    </tr>\n",
       "    <tr>\n",
       "      <th>1</th>\n",
       "      <td>2.770</td>\n",
       "      <td>GHRS</td>\n",
       "      <td>57</td>\n",
       "      <td>3</td>\n",
       "      <td>23.220</td>\n",
       "      <td>2021-09-16 04:00:00+00:00</td>\n",
       "    </tr>\n",
       "    <tr>\n",
       "      <th>2</th>\n",
       "      <td>-1.470</td>\n",
       "      <td>GHRS</td>\n",
       "      <td>60</td>\n",
       "      <td>3</td>\n",
       "      <td>20.450</td>\n",
       "      <td>2021-09-21 04:00:00+00:00</td>\n",
       "    </tr>\n",
       "    <tr>\n",
       "      <th>3</th>\n",
       "      <td>1.815</td>\n",
       "      <td>GHRS</td>\n",
       "      <td>63</td>\n",
       "      <td>10</td>\n",
       "      <td>21.920</td>\n",
       "      <td>2021-09-24 04:00:00+00:00</td>\n",
       "    </tr>\n",
       "    <tr>\n",
       "      <th>4</th>\n",
       "      <td>2.915</td>\n",
       "      <td>GHRS</td>\n",
       "      <td>73</td>\n",
       "      <td>8</td>\n",
       "      <td>20.105</td>\n",
       "      <td>2021-10-08 04:00:00+00:00</td>\n",
       "    </tr>\n",
       "    <tr>\n",
       "      <th>...</th>\n",
       "      <td>...</td>\n",
       "      <td>...</td>\n",
       "      <td>...</td>\n",
       "      <td>...</td>\n",
       "      <td>...</td>\n",
       "      <td>...</td>\n",
       "    </tr>\n",
       "    <tr>\n",
       "      <th>951</th>\n",
       "      <td>0.220</td>\n",
       "      <td>MCFT</td>\n",
       "      <td>960</td>\n",
       "      <td>6</td>\n",
       "      <td>21.350</td>\n",
       "      <td>2023-09-14 04:00:00+00:00</td>\n",
       "    </tr>\n",
       "    <tr>\n",
       "      <th>952</th>\n",
       "      <td>-0.680</td>\n",
       "      <td>MCFT</td>\n",
       "      <td>966</td>\n",
       "      <td>4</td>\n",
       "      <td>21.130</td>\n",
       "      <td>2023-09-22 04:00:00+00:00</td>\n",
       "    </tr>\n",
       "    <tr>\n",
       "      <th>953</th>\n",
       "      <td>-0.190</td>\n",
       "      <td>MCFT</td>\n",
       "      <td>970</td>\n",
       "      <td>6</td>\n",
       "      <td>21.810</td>\n",
       "      <td>2023-09-28 04:00:00+00:00</td>\n",
       "    </tr>\n",
       "    <tr>\n",
       "      <th>954</th>\n",
       "      <td>-0.490</td>\n",
       "      <td>MCFT</td>\n",
       "      <td>976</td>\n",
       "      <td>4</td>\n",
       "      <td>22.000</td>\n",
       "      <td>2023-10-06 04:00:00+00:00</td>\n",
       "    </tr>\n",
       "    <tr>\n",
       "      <th>955</th>\n",
       "      <td>0.560</td>\n",
       "      <td>MCFT</td>\n",
       "      <td>980</td>\n",
       "      <td>8</td>\n",
       "      <td>22.490</td>\n",
       "      <td>2023-10-12 04:00:00+00:00</td>\n",
       "    </tr>\n",
       "  </tbody>\n",
       "</table>\n",
       "<p>956 rows × 6 columns</p>\n",
       "</div>"
      ],
      "text/plain": [
       "     profits_losses asset  buy_index  time_held  buy_price  \\\n",
       "0             0.000  GHRS          0         57      0.000   \n",
       "1             2.770  GHRS         57          3     23.220   \n",
       "2            -1.470  GHRS         60          3     20.450   \n",
       "3             1.815  GHRS         63         10     21.920   \n",
       "4             2.915  GHRS         73          8     20.105   \n",
       "..              ...   ...        ...        ...        ...   \n",
       "951           0.220  MCFT        960          6     21.350   \n",
       "952          -0.680  MCFT        966          4     21.130   \n",
       "953          -0.190  MCFT        970          6     21.810   \n",
       "954          -0.490  MCFT        976          4     22.000   \n",
       "955           0.560  MCFT        980          8     22.490   \n",
       "\n",
       "                      buy_date  \n",
       "0    2021-06-25 04:00:00+00:00  \n",
       "1    2021-09-16 04:00:00+00:00  \n",
       "2    2021-09-21 04:00:00+00:00  \n",
       "3    2021-09-24 04:00:00+00:00  \n",
       "4    2021-10-08 04:00:00+00:00  \n",
       "..                         ...  \n",
       "951  2023-09-14 04:00:00+00:00  \n",
       "952  2023-09-22 04:00:00+00:00  \n",
       "953  2023-09-28 04:00:00+00:00  \n",
       "954  2023-10-06 04:00:00+00:00  \n",
       "955  2023-10-12 04:00:00+00:00  \n",
       "\n",
       "[956 rows x 6 columns]"
      ]
     },
     "execution_count": 27,
     "metadata": {},
     "output_type": "execute_result"
    }
   ],
   "source": [
    "import pandas as pd\n",
    "\n",
    "df = pd.read_csv('/Users/johncabrahams/Desktop/Projects/Operation Algo/operation_dart_monkey/buy_data.csv')\n",
    "df.drop(['Unnamed: 0'], axis=1, inplace=True)\n",
    "df"
   ]
  },
  {
   "cell_type": "code",
   "execution_count": 28,
   "metadata": {},
   "outputs": [],
   "source": [
    "df_dummies = pd.get_dummies(df, columns=['asset'])"
   ]
  },
  {
   "cell_type": "code",
   "execution_count": 29,
   "metadata": {},
   "outputs": [
    {
     "data": {
      "text/plain": [
       "Index(['profits_losses', 'asset', 'buy_index', 'time_held', 'buy_price',\n",
       "       'buy_date'],\n",
       "      dtype='object')"
      ]
     },
     "execution_count": 29,
     "metadata": {},
     "output_type": "execute_result"
    }
   ],
   "source": [
    "df.columns"
   ]
  },
  {
   "cell_type": "code",
   "execution_count": 25,
   "metadata": {},
   "outputs": [],
   "source": [
    "df_dummies\n",
    "\n",
    "asset_list_of_pl = [df_dummies['profits_losses'].where(df_dummies['asset_BPOPM'] == True), df_dummies['profits_losses'].where(df_dummies['asset_TWIO'] == True)]\n",
    "\n",
    "asset_list_of_pl[0].dropna(inplace=True)\n",
    "asset_list_of_pl[1].dropna(inplace=True)\n",
    "\n",
    "asset_list_of_pl = [sum(asset_list_of_pl[0]),sum(asset_list_of_pl[1])]\n",
    "\n",
    "\n"
   ]
  },
  {
   "cell_type": "code",
   "execution_count": 26,
   "metadata": {},
   "outputs": [
    {
     "name": "stdout",
     "output_type": "stream",
     "text": [
      "p value is 1.0\n",
      "Independent (H0 holds true)\n"
     ]
    }
   ],
   "source": [
    "from scipy.stats import chi2_contingency\n",
    "data = asset_list_of_pl\n",
    "stat, p, dof, expected = chi2_contingency(data)\n",
    " \n",
    "# interpret p-value\n",
    "alpha = 0.05\n",
    "print(\"p value is \" + str(p))\n",
    "if p <= alpha:\n",
    "    print('Dependent (reject H0)')\n",
    "else:\n",
    "    print('Independent (H0 holds true)')"
   ]
  },
  {
   "cell_type": "code",
   "execution_count": 34,
   "metadata": {},
   "outputs": [],
   "source": [
    "X = df[['buy_index', 'time_held', 'buy_price']].values\n",
    "\n",
    "y = df['profits_losses'].values"
   ]
  },
  {
   "cell_type": "code",
   "execution_count": 37,
   "metadata": {},
   "outputs": [
    {
     "name": "stdout",
     "output_type": "stream",
     "text": [
      "Mean Squared Error: 42.92795592525971\n",
      "R^2 Score: -0.002681131555790639\n",
      "Model coefficients:\n",
      "[ 0. 57.  0.]: 0.0005941756983954528\n",
      "[57.    3.   23.22]: 0.009535363858243462\n",
      "[60.    3.   20.45]: 0.003923250872266269\n",
      "Intercept: -0.45399164257947355\n"
     ]
    }
   ],
   "source": [
    "import numpy as np\n",
    "import pandas as pd\n",
    "from sklearn.model_selection import train_test_split\n",
    "from sklearn.linear_model import LinearRegression\n",
    "from sklearn.metrics import mean_squared_error, r2_score\n",
    "\n",
    "# Split the dataset into training and testing sets\n",
    "X_train, X_test, y_train, y_test = train_test_split(X, y, test_size=0.2, random_state=42)\n",
    "\n",
    "# Create the model\n",
    "model = LinearRegression()\n",
    "\n",
    "# Train the model\n",
    "model.fit(X_train, y_train)\n",
    "\n",
    "# Make predictions\n",
    "y_pred = model.predict(X_test)\n",
    "\n",
    "# Evaluate the model\n",
    "mse = mean_squared_error(y_test, y_pred)\n",
    "r2 = r2_score(y_test, y_pred)\n",
    "\n",
    "print(f'Mean Squared Error: {mse}')\n",
    "print(f'R^2 Score: {r2}')\n"
   ]
  }
 ],
 "metadata": {
  "kernelspec": {
   "display_name": "Python 3",
   "language": "python",
   "name": "python3"
  },
  "language_info": {
   "codemirror_mode": {
    "name": "ipython",
    "version": 3
   },
   "file_extension": ".py",
   "mimetype": "text/x-python",
   "name": "python",
   "nbconvert_exporter": "python",
   "pygments_lexer": "ipython3",
   "version": "3.9.16"
  }
 },
 "nbformat": 4,
 "nbformat_minor": 2
}
